{
 "cells": [
  {
   "cell_type": "markdown",
   "metadata": {},
   "source": [
    " Organizar arquivos por Ano.\n",
    " Copia os arquivos e adiciona na pasta do respectivo ano ao que o arquivo foi criado. Organiza os arquivos e copia a estrutura de diretórios que contém os arquivos."
   ]
  },
  {
   "cell_type": "code",
   "execution_count": 11,
   "metadata": {},
   "outputs": [],
   "source": [
    "#Importa as bibliotecas necessárias\n",
    "import datetime\n",
    "import os\n",
    "import shutil\n",
    "import time"
   ]
  },
  {
   "cell_type": "code",
   "execution_count": 12,
   "metadata": {},
   "outputs": [],
   "source": [
    "#Define o endereço de origem dos arquivos.\n",
    "#path_origem = 'C:\\\\Users\\\\charlessodre\\\\Documents\\\\PastaVM\\\\Estudos\\\\OrganizadorArquivos\\\\source_img'\n",
    "path_origem = 'D:\\\\FOTOS\\\\'\n",
    "#path_origem = 'D:\\\\FOTOS\\\\'\n",
    "\n",
    "#Define o endereço de destino dos arquivos.\n",
    "#path_destino = 'C:\\\\Users\\\\charlessodre\\\\Documents\\\\PastaVM\\\\Estudos\\\\OrganizadorArquivos\\\\DESTINO'\n",
    "#path_destino = 'D:\\\\FOTOS_POR_ANO\\\\'\n",
    "path_destino = 'D:\\\\TESTE\\\\'"
   ]
  },
  {
   "cell_type": "code",
   "execution_count": 13,
   "metadata": {},
   "outputs": [],
   "source": [
    "# Define a Função para Cria um diretório, se não existir\n",
    "def criar_diretorio(path, recursivo=False):\n",
    "    if not os.path.exists(path):\n",
    "        #print(novo_dir)\n",
    "        if recursivo:\n",
    "            os.makedirs(path)\n",
    "        else:\n",
    "            os.mkdir(path)"
   ]
  },
  {
   "cell_type": "code",
   "execution_count": 14,
   "metadata": {},
   "outputs": [],
   "source": [
    "# Define a Função que retorna o ano do arquivo.\n",
    "def ano_arquivo(file):\n",
    "    return datetime.datetime.fromtimestamp(os.stat(file).st_mtime).year"
   ]
  },
  {
   "cell_type": "code",
   "execution_count": 15,
   "metadata": {},
   "outputs": [],
   "source": [
    "#Define a função que retorna os segundos no formato hh:mm:ss\n",
    "def formata_segundos_hhmmss(segundos):\n",
    "    return time.strftime('%H:%M:%S', time.gmtime(segundos))"
   ]
  },
  {
   "cell_type": "code",
   "execution_count": 16,
   "metadata": {},
   "outputs": [],
   "source": [
    "#Define a função que retorna da hora atual do sistema.\n",
    "def get_hora_atual():\n",
    "    return time.strftime(\"%H:%M:%S\")"
   ]
  },
  {
   "cell_type": "code",
   "execution_count": 17,
   "metadata": {},
   "outputs": [],
   "source": [
    "#Define a função que grava um arquivo TXT a partir de uma lista.\n",
    "def grava_arquivo_log(lista_log, path_destino_log, modo_gravacao='w'):\n",
    "    \n",
    "    log_copia_arquivos = os.path.join(path_destino_log, \"log_copia_arquivos.txt\")\n",
    "    \n",
    "    with open(log_copia_arquivos, modo_gravacao) as f:\n",
    "        for s in lista_log:\n",
    "            f.write(str(s) + '\\n')"
   ]
  },
  {
   "cell_type": "code",
   "execution_count": 18,
   "metadata": {},
   "outputs": [],
   "source": [
    "# Denfine a função que retorna um dicionário com a quantidade arquivos por diretório e a frequncia dos anos. \n",
    "def dic_arquivos_anos(path):\n",
    "    \n",
    "    qtd_arq_dir = {}\n",
    "\n",
    "    for root, dirs, files in os.walk(path):\n",
    "                              \n",
    "        freq_ano = {}\n",
    "\n",
    "        split_dir = root.split('\\\\')\n",
    "        nome_dir = split_dir[len(split_dir)-1]\n",
    "\n",
    "        anos_arq = [ano_arquivo(os.path.join(root, f)) for f in files]\n",
    "\n",
    "        for ano in anos_arq:\n",
    "            freq_ano[ano] = anos_arq.count(ano)\n",
    "\n",
    "\n",
    "        qtd_arq_dir[root] = len(files), freq_ano, nome_dir\n",
    "        \n",
    "        #print(\"Root:\", root)\n",
    "        #print('Diretório:', nome_dir)\n",
    "        #print('Qtd Arq: ', set(anos_arq))\n",
    "        #print('Freq Ano: ',freq_ano)\n",
    "        #print('----------------------------')\n",
    "       \n",
    "\n",
    "    return qtd_arq_dir"
   ]
  },
  {
   "cell_type": "code",
   "execution_count": 24,
   "metadata": {},
   "outputs": [],
   "source": [
    "#Define a Função principal. \n",
    "def main ():\n",
    "    \n",
    "    \n",
    "    #Variáveis de controle para debug\n",
    "    habilitar_prints = False\n",
    "    habilitar_gravacao_log = True\n",
    "    habilitar_criacao_diretorios = False\n",
    "    habilitar_copia_arquivos = False\n",
    "    \n",
    "    #Lista com as mensagens\n",
    "    log_execucao = []\n",
    "    \n",
    "    msg_inicio_execucao = '----------------------------------------------- Início Execução ----------------------------------------------- '\n",
    "        \n",
    "    log_execucao.append(msg_inicio_execucao)\n",
    "    log_execucao.append('\\n')\n",
    "       \n",
    "    #Data e hora atual\n",
    "    hora_inicio = get_hora_atual()\n",
    "       \n",
    "    #Define o tempo de inicio da execução\n",
    "    inicio = time.time()\n",
    "    \n",
    "    #Anos dos arquivos\n",
    "    arquivos_anos = dic_arquivos_anos(path_origem)\n",
    "    total_arquivos = 0\n",
    "    \n",
    "    #Percorre todos os diretórios do dicionário\n",
    "    for key in arquivos_anos:      \n",
    "        #Obtêm o diconário da frequencia de anos.\n",
    "        dic_anos = arquivos_anos[key][1]\n",
    "        \n",
    "        #Verifica se o diretório está vazio, se estiver passa para o proximo.\n",
    "        if len(dic_anos) == 0:\n",
    "            continue\n",
    "        \n",
    "        #Obtêm a chave com maior valor\n",
    "        anoComMaisArquivos = max(dic_anos, key=dic_anos.get)\n",
    "        \n",
    "        msg_inicio_copia = 'Copiando arquivos do diretório:[ %s ]'% key\n",
    "        msg_ano_ocorrencia = 'Ano com maior acorrência: [ %d ]' % anoComMaisArquivos\n",
    "        \n",
    "        log_execucao.append(msg_inicio_copia)\n",
    "        log_execucao.append(msg_ano_ocorrencia)\n",
    "        \n",
    "        if habilitar_prints:\n",
    "            print(msg_inicio_copia)\n",
    "            print(msg_ano_ocorrencia)\n",
    "             \n",
    "        dir_origem = os.path.abspath(key)\n",
    "        msg_origem = 'Origem  <------ %s' % dir_origem\n",
    "        \n",
    "        log_execucao.append(msg_origem)\n",
    "            \n",
    "        if habilitar_prints:\n",
    "            print(msg_origem)  \n",
    "        \n",
    "        # Monta o PATH de destino dos arquivos.\n",
    "        dir_destino_ano = os.path.join(path_destino, str(anoComMaisArquivos)+'\\\\')      \n",
    "        dir_destino = os.path.abspath(os.path.join(dir_destino_ano, key.replace(path_origem, dir_destino_ano) ))     \n",
    "             \n",
    "        msg_destino =  'Destino ------> %s' % dir_destino   \n",
    "        \n",
    "        log_execucao.append(msg_destino)\n",
    "               \n",
    "        if habilitar_prints:\n",
    "            print(msg_destino)\n",
    "        \n",
    "        #Cria os diretórios\n",
    "        if habilitar_criacao_diretorios:\n",
    "            criar_diretorio(dir_destino, recursivo=True)\n",
    "             \n",
    "        arquivos = os.listdir(dir_origem)\n",
    "               \n",
    "        qtd_arq = 0\n",
    "        \n",
    "        #Percorre todos os arquivos do diretório\n",
    "        for f in arquivos:\n",
    "            \n",
    "            path_arquivo = os.path.join(dir_origem, f)\n",
    "            \n",
    "            if(os.path.isfile(path_arquivo)):\n",
    "                qtd_arq +=1\n",
    "                total_arquivos += 1\n",
    "                msg_log_arquivo = \"Arq %d de %d |Nome: %s |Origem: %s | Hora Log: %s\"   % (qtd_arq, arquivos_anos[key][0], f, path_arquivo, get_hora_atual())\n",
    "                \n",
    "                log_execucao.append(msg_log_arquivo)\n",
    "               \n",
    "                if habilitar_prints:\n",
    "                    print(msg_log_arquivo) \n",
    "               \n",
    "                #Copia os arquivos\n",
    "                if habilitar_copia_arquivos:\n",
    "                    shutil.copy2(path_arquivo, dir_destino)\n",
    "                    \n",
    "        \n",
    "        log_execucao.append('\\n')\n",
    "        \n",
    "        if habilitar_prints:   \n",
    "            print('\\n')\n",
    "    \n",
    "    #Define o tempo final da execução\n",
    "    fim = time.time()\n",
    "    \n",
    "    #Mensagens de log \n",
    "    msg_fim_execucao = '----------------------------------------------- Fim Execução ----------------------------------------------- '\n",
    "    \n",
    "    msg_total_aquivos_origem = 'Total de diretórios copiados: %d' % len(arquivos_anos)\n",
    "    msg_total_aquivos_copiados = 'Total de Arquivos copiados: %d' % total_arquivos\n",
    "    msg_hora_inicio = 'Hora iníco: %s' % hora_inicio\n",
    "    msg_hora_fim = 'Hora fim: %s'% get_hora_atual()\n",
    "    msg_tempo_execucao = 'Tempo da Execução: %s' % formata_segundos_hhmmss(fim - inicio)\n",
    "    \n",
    "    log_execucao.append(msg_fim_execucao) \n",
    "    log_execucao.append('\\n')\n",
    "    log_execucao.append(msg_total_aquivos_origem)\n",
    "    log_execucao.append(msg_total_aquivos_copiados)\n",
    "    log_execucao.append(msg_hora_inicio)\n",
    "    log_execucao.append(msg_hora_fim)  \n",
    "    log_execucao.append(msg_tempo_execucao)\n",
    "    \n",
    "    if habilitar_prints:\n",
    "        print(msg_fim_execucao)\n",
    "        print(msg_total_aquivos_origem)\n",
    "        print(msg_total_aquivos_copiados)\n",
    "        print(msg_hora_inicio)\n",
    "        print(msg_hora_fim)\n",
    "        print(msg_tempo_execucao)\n",
    "   \n",
    "    #Grava o arquivo de Log.\n",
    "    if habilitar_gravacao_log:\n",
    "        grava_arquivo_log(log_execucao, path_destino)"
   ]
  },
  {
   "cell_type": "code",
   "execution_count": null,
   "metadata": {},
   "outputs": [],
   "source": []
  },
  {
   "cell_type": "code",
   "execution_count": 25,
   "metadata": {},
   "outputs": [],
   "source": [
    "#Executa função principal\n",
    "main()"
   ]
  },
  {
   "cell_type": "code",
   "execution_count": null,
   "metadata": {},
   "outputs": [],
   "source": []
  },
  {
   "cell_type": "code",
   "execution_count": null,
   "metadata": {},
   "outputs": [],
   "source": []
  },
  {
   "cell_type": "code",
   "execution_count": null,
   "metadata": {},
   "outputs": [],
   "source": []
  },
  {
   "cell_type": "code",
   "execution_count": null,
   "metadata": {},
   "outputs": [],
   "source": []
  },
  {
   "cell_type": "code",
   "execution_count": null,
   "metadata": {},
   "outputs": [],
   "source": []
  },
  {
   "cell_type": "code",
   "execution_count": null,
   "metadata": {},
   "outputs": [],
   "source": []
  },
  {
   "cell_type": "code",
   "execution_count": null,
   "metadata": {},
   "outputs": [],
   "source": []
  },
  {
   "cell_type": "code",
   "execution_count": null,
   "metadata": {},
   "outputs": [],
   "source": []
  }
 ],
 "metadata": {
  "kernelspec": {
   "display_name": "Python 3",
   "language": "python",
   "name": "python3"
  },
  "language_info": {
   "codemirror_mode": {
    "name": "ipython",
    "version": 3
   },
   "file_extension": ".py",
   "mimetype": "text/x-python",
   "name": "python",
   "nbconvert_exporter": "python",
   "pygments_lexer": "ipython3",
   "version": "3.6.7"
  }
 },
 "nbformat": 4,
 "nbformat_minor": 2
}
