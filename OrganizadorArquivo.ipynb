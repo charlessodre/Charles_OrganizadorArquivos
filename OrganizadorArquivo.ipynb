{
 "cells": [
  {
   "cell_type": "markdown",
   "metadata": {},
   "source": [
    " Organizar arquivos por Ano.\n",
    " Copia os arquivos e adiciona na pasta do respectivo ano ao que o arquivo foi criado."
   ]
  },
  {
   "cell_type": "code",
   "execution_count": 1,
   "metadata": {},
   "outputs": [],
   "source": [
    "#Importa as bibliotecas necessárias\n",
    "import datetime\n",
    "import os\n",
    "import shutil"
   ]
  },
  {
   "cell_type": "code",
   "execution_count": 2,
   "metadata": {},
   "outputs": [],
   "source": [
    "#Define o endereço de origem dos arquivos.\n",
    "#url_origem = 'C:/DESENVOLVIMENTO/OrganizadorArquivos/source_img'\n",
    "url_origem = 'D:/FOTOS/Anivesários'\n",
    "\n",
    "#Define o endereço de destino dos arquivos.\n",
    "url_destino = 'C:/DESENVOLVIMENTO/OrganizadorArquivos'\n",
    "#url_destino = 'C:/Users/charlessodre/Pictures/Saved Pictures'"
   ]
  },
  {
   "cell_type": "code",
   "execution_count": 3,
   "metadata": {},
   "outputs": [],
   "source": [
    "#Define a Função para listar os arquivos e sub-diretórios.\n",
    "def list_files_path(path):\n",
    "    path_files = []\n",
    "    for p, _, files in os.walk(os.path.abspath(path)):\n",
    "        for file in files:\n",
    "            path_files.append(os.path.join(p, file))\n",
    "    \n",
    "    return path_files"
   ]
  },
  {
   "cell_type": "code",
   "execution_count": 4,
   "metadata": {},
   "outputs": [],
   "source": [
    "# Define a Função para Cria um diretório, a partir de uma lista, se não existir\n",
    "def criar_diretorio(list_dir, path):\n",
    "    for dir in list_dir:\n",
    "        novo_dir = os.path.join(os.path.abspath(path), str(dir))\n",
    "        \n",
    "        if not os.path.exists(novo_dir):\n",
    "            #print(novo_dir)\n",
    "            os.mkdir(novo_dir)\n"
   ]
  },
  {
   "cell_type": "code",
   "execution_count": 5,
   "metadata": {},
   "outputs": [],
   "source": [
    "# Define a Função que retorna o ano do arquivo.\n",
    "def ano_arquivo(file):\n",
    "    return datetime.datetime.fromtimestamp(os.stat(file).st_mtime).year"
   ]
  },
  {
   "cell_type": "code",
   "execution_count": 15,
   "metadata": {},
   "outputs": [],
   "source": [
    "# Agrupa a quantidade de arquivos por ano\n",
    "#qtd_arquivos_ano = {x:anos.count(x) for x in anos}\n",
    "#qtd_arquivos_ano"
   ]
  },
  {
   "cell_type": "code",
   "execution_count": 16,
   "metadata": {},
   "outputs": [],
   "source": [
    "arquivos = list_files_path(url_origem)\n"
   ]
  },
  {
   "cell_type": "code",
   "execution_count": 17,
   "metadata": {},
   "outputs": [],
   "source": [
    "#Obtem os anos dos arquivos\n",
    "#anos = [datetime.datetime.fromtimestamp(os.stat(file).st_mtime).year for file in list_files_path(url_origem)]\n",
    "anos = [ano_arquivo(ano) for ano in arquivos]\n",
    "#anos"
   ]
  },
  {
   "cell_type": "code",
   "execution_count": 18,
   "metadata": {},
   "outputs": [],
   "source": [
    "criar_diretorio(set(anos), url_destino)"
   ]
  },
  {
   "cell_type": "code",
   "execution_count": 19,
   "metadata": {},
   "outputs": [],
   "source": [
    "for f in arquivos:\n",
    "    ano_arq = ano_arquivo(f)\n",
    "    #print(os.path.abspath(f))\n",
    "    #print(f)\n",
    "    dir_destino = os.path.join(url_destino, str(ano_arq))\n",
    "    #print(dir_destino)\n",
    "    shutil.copy2(os.path.abspath(f), dir_destino)\n",
    "    \n",
    "    "
   ]
  },
  {
   "cell_type": "code",
   "execution_count": null,
   "metadata": {},
   "outputs": [],
   "source": []
  },
  {
   "cell_type": "code",
   "execution_count": null,
   "metadata": {},
   "outputs": [],
   "source": []
  },
  {
   "cell_type": "code",
   "execution_count": null,
   "metadata": {},
   "outputs": [],
   "source": []
  },
  {
   "cell_type": "code",
   "execution_count": null,
   "metadata": {},
   "outputs": [],
   "source": []
  }
 ],
 "metadata": {
  "kernelspec": {
   "display_name": "Python 3",
   "language": "python",
   "name": "python3"
  },
  "language_info": {
   "codemirror_mode": {
    "name": "ipython",
    "version": 3
   },
   "file_extension": ".py",
   "mimetype": "text/x-python",
   "name": "python",
   "nbconvert_exporter": "python",
   "pygments_lexer": "ipython3",
   "version": "3.6.7"
  }
 },
 "nbformat": 4,
 "nbformat_minor": 2
}
